{
 "cells": [
  {
   "cell_type": "markdown",
   "metadata": {},
   "source": [
    "# A Basic Trend-Following System for Futures (Multi Pass)"
   ]
  },
  {
   "cell_type": "markdown",
   "metadata": {},
   "source": [
    "In this notebook we show a very simple strategy based on the crossing of two moving averages. The strategy can be used as starting point for developing more complex approaches. We use a multi-pass implementation which forbids forward looking and can be used for testing your idea."
   ]
  },
  {
   "cell_type": "code",
   "execution_count": null,
   "metadata": {},
   "outputs": [],
   "source": [
    "%%javascript\n",
    "IPython.OutputArea.prototype._should_scroll = function(lines) { return false; }\n",
    "// disable widget scrolling"
   ]
  },
  {
   "cell_type": "markdown",
   "metadata": {},
   "source": [
    "We define a wrapper function for loading the data, and implement our strategy inside a function which returns allocation weights for a given point in time. Then we call the built-in backtesting function and perform the simulation avoiding potential looking-forward issues. Note that the performace of this system is not so good as the Sharpe ratio smaller than 1. If you can write a system with a positive Sharpe ratio larger than 1, save your result and click on the **Submit** button in your **Development** area!"
   ]
  },
  {
   "cell_type": "code",
   "execution_count": null,
   "metadata": {},
   "outputs": [],
   "source": [
    "import xarray as xr\n",
    "\n",
    "import qnt.ta as qnta\n",
    "import qnt.backtester as qnbt\n",
    "import qnt.data as qndata\n",
    "\n",
    "\n",
    "\n",
    "def load_data(period):\n",
    "    \"\"\"Loads futures markets for the Classic Futures contest\"\"\"\n",
    "    return qndata.futures.load_data(tail=period, dims=(\"time\",\"field\",\"asset\"))\n",
    "\n",
    "\n",
    "\n",
    "def strategy(data):\n",
    "    \"\"\"The system will go long when the slow-moving moving average is smaller than the\n",
    "    fast-moving one; otherwise it will not be invested.\n",
    "    \"\"\"\n",
    "    close= data.sel(field=\"close\")\n",
    "    ma_slow= close.rolling(time=200).mean().isel(time=-1)\n",
    "    ma_fast= close.rolling(time=20).mean().isel(time=-1)\n",
    "    return xr.where(ma_fast > ma_slow, 1, 0)\n",
    "\n",
    "\n",
    "\n",
    "weights = qnbt.backtest(\n",
    "    # Classic Futures contest:\n",
    "    competition_type= \"futures\",\n",
    "    load_data= load_data,\n",
    "    # lookback in calendar days, it should be larger than the max. lookback used for\n",
    "    # indicators, in this case 200 trading days:\n",
    "    lookback_period=365,\n",
    "    start_date= \"2006-01-01\",\n",
    "    strategy= strategy\n",
    ")"
   ]
  }
 ],
 "metadata": {
  "kernelspec": {
   "display_name": "Python 3",
   "language": "python",
   "name": "python3"
  },
  "language_info": {
   "codemirror_mode": {
    "name": "ipython",
    "version": 3
   },
   "file_extension": ".py",
   "mimetype": "text/x-python",
   "name": "python",
   "nbconvert_exporter": "python",
   "pygments_lexer": "ipython3",
   "version": "3.7.9"
  }
 },
 "nbformat": 4,
 "nbformat_minor": 4
}
